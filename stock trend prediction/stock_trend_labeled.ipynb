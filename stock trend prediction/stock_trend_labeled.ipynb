{
 "cells": [
  {
   "cell_type": "markdown",
   "id": "8c73558e",
   "metadata": {},
   "source": [
    "## Przewidywanie trendu kursu giełdowego"
   ]
  },
  {
   "cell_type": "markdown",
   "id": "7001f96c",
   "metadata": {},
   "source": [
    "## Nie jest przewidywana dokładna cena, a jedynie próg zmian:\n",
    "### -Cena bardzo rośnie\n",
    "### -Cena trochę rośnie\n",
    "### -Cena trochę maleje\n",
    "### -Cena bardzo maleje\n",
    "## Na wejściu: ceny dolara, funta i euro przez N dni\n",
    "## Na wyjściu: etykieta reprezentująca zmianę ceny WIGu w dniu następnym"
   ]
  },
  {
   "cell_type": "markdown",
   "id": "a1e0b961",
   "metadata": {},
   "source": [
    "## Początkowa obróbka danych"
   ]
  },
  {
   "cell_type": "code",
   "execution_count": 1,
   "id": "521884f2",
   "metadata": {},
   "outputs": [
    {
     "data": {
      "text/html": [
       "<div>\n",
       "<style scoped>\n",
       "    .dataframe tbody tr th:only-of-type {\n",
       "        vertical-align: middle;\n",
       "    }\n",
       "\n",
       "    .dataframe tbody tr th {\n",
       "        vertical-align: top;\n",
       "    }\n",
       "\n",
       "    .dataframe thead th {\n",
       "        text-align: right;\n",
       "    }\n",
       "</style>\n",
       "<table border=\"1\" class=\"dataframe\">\n",
       "  <thead>\n",
       "    <tr style=\"text-align: right;\">\n",
       "      <th></th>\n",
       "      <th>dates</th>\n",
       "      <th>usd</th>\n",
       "      <th>pound</th>\n",
       "      <th>wig</th>\n",
       "      <th>euro</th>\n",
       "    </tr>\n",
       "  </thead>\n",
       "  <tbody>\n",
       "    <tr>\n",
       "      <th>0</th>\n",
       "      <td>31.01.2013</td>\n",
       "      <td>3.0814</td>\n",
       "      <td>4.8857</td>\n",
       "      <td>46840.15</td>\n",
       "      <td>4.1944</td>\n",
       "    </tr>\n",
       "    <tr>\n",
       "      <th>1</th>\n",
       "      <td>01.02.2013</td>\n",
       "      <td>3.0498</td>\n",
       "      <td>4.7882</td>\n",
       "      <td>46945.58</td>\n",
       "      <td>4.1630</td>\n",
       "    </tr>\n",
       "    <tr>\n",
       "      <th>2</th>\n",
       "      <td>04.02.2013</td>\n",
       "      <td>3.0905</td>\n",
       "      <td>4.8666</td>\n",
       "      <td>46556.55</td>\n",
       "      <td>4.1761</td>\n",
       "    </tr>\n",
       "    <tr>\n",
       "      <th>3</th>\n",
       "      <td>05.02.2013</td>\n",
       "      <td>3.0747</td>\n",
       "      <td>4.8168</td>\n",
       "      <td>46674.78</td>\n",
       "      <td>4.1764</td>\n",
       "    </tr>\n",
       "    <tr>\n",
       "      <th>4</th>\n",
       "      <td>06.02.2013</td>\n",
       "      <td>3.0875</td>\n",
       "      <td>4.8347</td>\n",
       "      <td>46149.14</td>\n",
       "      <td>4.1752</td>\n",
       "    </tr>\n",
       "  </tbody>\n",
       "</table>\n",
       "</div>"
      ],
      "text/plain": [
       "        dates     usd   pound       wig    euro\n",
       "0  31.01.2013  3.0814  4.8857  46840.15  4.1944\n",
       "1  01.02.2013  3.0498  4.7882  46945.58  4.1630\n",
       "2  04.02.2013  3.0905  4.8666  46556.55  4.1761\n",
       "3  05.02.2013  3.0747  4.8168  46674.78  4.1764\n",
       "4  06.02.2013  3.0875  4.8347  46149.14  4.1752"
      ]
     },
     "execution_count": 1,
     "metadata": {},
     "output_type": "execute_result"
    }
   ],
   "source": [
    "def selectTimeRange(df, start_date, end_date):\n",
    "    from datetime import datetime as dt\n",
    "    \n",
    "    start_date = dt.strptime(start_date, '%d.%m.%Y')\n",
    "    end_date = dt.strptime(end_date, '%d.%m.%Y')\n",
    "    \n",
    "    low_idx = 0\n",
    "    while dt.strptime( df['dates'][low_idx], '%d.%m.%Y') <= start_date:\n",
    "        low_idx = low_idx + 1\n",
    "    \n",
    "    up_idx = df.index.stop - 1\n",
    "    while dt.strptime( df['dates'][up_idx], '%d.%m.%Y') >= end_date:\n",
    "        up_idx = up_idx - 1\n",
    "        \n",
    "    df = df[ low_idx:up_idx ]\n",
    "    df.reindex( [ i for i in range(len(df)) ] )\n",
    "    return df \n",
    "\n",
    "# Wczytaj dane i ustaw przedział czasowy\n",
    "import pandas as pd\n",
    "\n",
    "df_raw = pd.read_csv(\"data.csv\")\n",
    "# df = selectTimeRange(df_raw, '01.01.2018', '31.12.2023')\n",
    "df = df_raw.copy()\n",
    "df.head()"
   ]
  },
  {
   "cell_type": "markdown",
   "id": "17676734",
   "metadata": {},
   "source": [
    "## Pomocniczy dataframe ze względnymi zmianami"
   ]
  },
  {
   "cell_type": "code",
   "execution_count": 2,
   "id": "c394347c",
   "metadata": {},
   "outputs": [
    {
     "data": {
      "text/html": [
       "<div>\n",
       "<style scoped>\n",
       "    .dataframe tbody tr th:only-of-type {\n",
       "        vertical-align: middle;\n",
       "    }\n",
       "\n",
       "    .dataframe tbody tr th {\n",
       "        vertical-align: top;\n",
       "    }\n",
       "\n",
       "    .dataframe thead th {\n",
       "        text-align: right;\n",
       "    }\n",
       "</style>\n",
       "<table border=\"1\" class=\"dataframe\">\n",
       "  <thead>\n",
       "    <tr style=\"text-align: right;\">\n",
       "      <th></th>\n",
       "      <th>dates</th>\n",
       "      <th>usd</th>\n",
       "      <th>pound</th>\n",
       "      <th>wig</th>\n",
       "      <th>euro</th>\n",
       "    </tr>\n",
       "  </thead>\n",
       "  <tbody>\n",
       "    <tr>\n",
       "      <th>0</th>\n",
       "      <td>31.01.2013</td>\n",
       "      <td>0.000000</td>\n",
       "      <td>0.000000</td>\n",
       "      <td>0.000000</td>\n",
       "      <td>0.000000</td>\n",
       "    </tr>\n",
       "    <tr>\n",
       "      <th>1</th>\n",
       "      <td>01.02.2013</td>\n",
       "      <td>-0.010255</td>\n",
       "      <td>-0.019956</td>\n",
       "      <td>0.002251</td>\n",
       "      <td>-0.007486</td>\n",
       "    </tr>\n",
       "    <tr>\n",
       "      <th>2</th>\n",
       "      <td>04.02.2013</td>\n",
       "      <td>0.013345</td>\n",
       "      <td>0.016374</td>\n",
       "      <td>-0.008287</td>\n",
       "      <td>0.003147</td>\n",
       "    </tr>\n",
       "    <tr>\n",
       "      <th>3</th>\n",
       "      <td>05.02.2013</td>\n",
       "      <td>-0.005112</td>\n",
       "      <td>-0.010233</td>\n",
       "      <td>0.002539</td>\n",
       "      <td>0.000072</td>\n",
       "    </tr>\n",
       "    <tr>\n",
       "      <th>4</th>\n",
       "      <td>06.02.2013</td>\n",
       "      <td>0.004163</td>\n",
       "      <td>0.003716</td>\n",
       "      <td>-0.011262</td>\n",
       "      <td>-0.000287</td>\n",
       "    </tr>\n",
       "  </tbody>\n",
       "</table>\n",
       "</div>"
      ],
      "text/plain": [
       "        dates       usd     pound       wig      euro\n",
       "0  31.01.2013  0.000000  0.000000  0.000000  0.000000\n",
       "1  01.02.2013 -0.010255 -0.019956  0.002251 -0.007486\n",
       "2  04.02.2013  0.013345  0.016374 -0.008287  0.003147\n",
       "3  05.02.2013 -0.005112 -0.010233  0.002539  0.000072\n",
       "4  06.02.2013  0.004163  0.003716 -0.011262 -0.000287"
      ]
     },
     "execution_count": 2,
     "metadata": {},
     "output_type": "execute_result"
    }
   ],
   "source": [
    "def absoluteChange( prizes ):\n",
    "    result = [None]*( len(prizes) )\n",
    "    result[0] = 0\n",
    "    for i in range( 1, len(prizes) ):\n",
    "        result[i] = prizes[i] - prizes[i-1]\n",
    "    return result\n",
    "\n",
    "def relativeChange( prizes ):\n",
    "    result = [None]*( len(prizes) )\n",
    "    result[0] = 0\n",
    "    for i in range( 1, len(prizes) ):\n",
    "        result[i] = prizes[i] / prizes[i-1]\n",
    "    return result\n",
    "\n",
    "def relativeAbsoluteChange( prizes ):\n",
    "    result = [None]*( len(prizes) )\n",
    "    result[0] = 0\n",
    "    for i in range( 1, len(prizes) ):\n",
    "        result[i] = prizes[i] / prizes[i-1] - 1\n",
    "    return result\n",
    "\n",
    "def dataChange( df, mode ):\n",
    "    import pandas as pd\n",
    "    \n",
    "    cols = list( df.columns)\n",
    "    temp_dict = { c:None for c in cols }\n",
    "    for c in cols[1:]:\n",
    "        if mode == 'absolute':\n",
    "            temp_dict[c] = absoluteChange( df[c] )\n",
    "        elif mode == 'relative':\n",
    "            temp_dict[c] = relativeChange( df[c] )\n",
    "        elif mode == 'relabs':\n",
    "            temp_dict[c] = relativeAbsoluteChange( df[c] )\n",
    "        else:\n",
    "            return None\n",
    "    temp_dict[ cols[0] ] = df[ cols[0] ]\n",
    "    df_dt = pd.DataFrame(temp_dict)\n",
    "    return df_dt\n",
    "\n",
    "df_dt = dataChange( df, 'relabs' )\n",
    "df_dt.head()"
   ]
  },
  {
   "cell_type": "markdown",
   "id": "f28f499c",
   "metadata": {},
   "source": [
    "## Bez uśredniania i usuwania outlierów"
   ]
  },
  {
   "cell_type": "code",
   "execution_count": 3,
   "id": "b28eac1d",
   "metadata": {},
   "outputs": [],
   "source": [
    "df_dt_cleaned = df_dt.copy()"
   ]
  },
  {
   "cell_type": "markdown",
   "id": "690c33ab",
   "metadata": {},
   "source": [
    "## Policzenie przedziałów zmian - utworzenie etykiet:\n",
    "### q<...;-mean-std> - kurs bardzo maleje\n",
    "### q<-mean-std;0> - kurs trochę maleje\n",
    "### q<0;-mean+std> - kurs trochę rośnie\n",
    "### q< -mean+std;...> - kurs bardzo rośnie\n",
    "### mean, std - znormalizowane, tak że mean wynosi 0"
   ]
  },
  {
   "cell_type": "code",
   "execution_count": 4,
   "id": "738e6f88",
   "metadata": {},
   "outputs": [],
   "source": [
    "# normalizacja WIGu\n",
    "temp = df_dt_cleaned['wig'].mean()\n",
    "df_dt_cleaned['wig'] = df_dt_cleaned['wig'] - temp"
   ]
  },
  {
   "cell_type": "code",
   "execution_count": 5,
   "id": "f9fde471",
   "metadata": {},
   "outputs": [
    {
     "name": "stdout",
     "output_type": "stream",
     "text": [
      "przedział: [-0.011676920499066322, 0, 0.011676920499066322]\n"
     ]
    }
   ],
   "source": [
    "import numpy as np\n",
    "\n",
    "std = np.std(df_dt_cleaned[1:]['wig'])\n",
    "boundaries = [ - std, 0,  std ]\n",
    "print(f\"przedział: {boundaries}\")\n",
    "\n",
    "def getLabel(value):\n",
    "    if value < boundaries[0]:\n",
    "        return 0\n",
    "    elif value >= boundaries[0] and value < boundaries[1]:\n",
    "        return 1\n",
    "    elif value >= boundaries[1] and value < boundaries[2]:\n",
    "        return 2\n",
    "    elif value >= boundaries[2]:\n",
    "        return 3\n",
    "    \n",
    "df_dt_cleaned['label'] = [ getLabel(v) for v in df_dt_cleaned['wig'][:]]"
   ]
  },
  {
   "cell_type": "markdown",
   "id": "5fb75f6e",
   "metadata": {},
   "source": [
    "## Utworzenie zbioru treningowego i testowego"
   ]
  },
  {
   "cell_type": "code",
   "execution_count": 6,
   "id": "f41ebdda",
   "metadata": {},
   "outputs": [],
   "source": [
    "# Odłożenie części danych do późniejszej predykcji\n",
    "pred_len = 50"
   ]
  },
  {
   "cell_type": "code",
   "execution_count": 7,
   "id": "433f07fc",
   "metadata": {},
   "outputs": [],
   "source": [
    "# Funkcja zależna od rodzju danych!!!\n",
    "# sample_length - ilość wartości w jednej próbce treningowej\n",
    "# shuffle - przemieszaj kolejność próbek treningowych\n",
    "def prepareData(raw_data, sample_length, shuffle=False):\n",
    "    x_cols = ['usd','pound','euro']\n",
    "#     x_cols=['wig']\n",
    "    y_cols = ['label']\n",
    "    X=[None]*(len(raw_data)-sample_length)\n",
    "    y=[None]*(len(raw_data)-sample_length) \n",
    "    \n",
    "    idx = [ i for i in range(len(raw_data)-sample_length)]\n",
    "    if shuffle == True:\n",
    "        import numpy as np\n",
    "        idx = np.array(idx, dtype=\"object\")\n",
    "        np.random.shuffle(idx)\n",
    "    \n",
    "    for i in range(sample_length, len(raw_data)):\n",
    "        xvals = []\n",
    "        for col in x_cols:\n",
    "            xvals.append( [ 100*x for x in raw_data[col][i-sample_length:i] ] )\n",
    "        X[idx[i-sample_length]] = xvals\n",
    "        y[idx[i-sample_length]] = int( raw_data[y_cols].iloc[i].values[0] )\n",
    "    \n",
    "    \n",
    "    return {'X':X, 'y':y}\n",
    "\n",
    "sample_length = 250\n",
    "processed_data = prepareData(df_dt_cleaned[1:-pred_len], sample_length, shuffle=True)"
   ]
  },
  {
   "cell_type": "code",
   "execution_count": 8,
   "id": "7aaf12e3",
   "metadata": {},
   "outputs": [],
   "source": [
    "def splitDataToTrainAndTest( processed_data, trainingProportion):\n",
    "    # trainingPorportion - stosunek podziału danych treningowych do testowych (0;1)\n",
    "    \n",
    "    data_len = len(processed_data['X'])\n",
    "    \n",
    "    X_train = processed_data['X'][:int(data_len*trainingProportion)]\n",
    "    y_train = processed_data['y'][:int(data_len*trainingProportion)]\n",
    "    X_val = processed_data['X'][int(data_len*trainingProportion):]\n",
    "    y_val = processed_data['y'][int(data_len*trainingProportion):]\n",
    "    \n",
    "    return X_train, y_train, X_val, y_val\n",
    "\n",
    "trainingProportion = 0.6\n",
    "X_train, y_train, X_val, y_val = splitDataToTrainAndTest(processed_data, trainingProportion)"
   ]
  },
  {
   "cell_type": "markdown",
   "id": "1e17a0d3",
   "metadata": {},
   "source": [
    "## Utworzenie modelu i trening"
   ]
  },
  {
   "cell_type": "code",
   "execution_count": null,
   "id": "0781b889",
   "metadata": {},
   "outputs": [],
   "source": [
    "import keras\n",
    "import tensorflow as tf\n",
    "from tensorflow.keras.models import Sequential, save_model, load_model\n",
    "from tensorflow.keras.layers import *\n",
    "from tensorflow.keras.callbacks import EarlyStopping\n",
    "from tensorflow.keras.losses import MeanSquaredError\n",
    "from tensorflow.keras.metrics import MeanAbsoluteError, RootMeanSquaredError, CategoricalCrossentropy, BinaryCrossentropy\n",
    "from tensorflow.keras.optimizers import Adam \n",
    "\n",
    "n_input = 3\n",
    "n_features = sample_length\n",
    "\n",
    "model_stock = Sequential()\n",
    "\n",
    "model_stock.add(InputLayer((n_input, n_features)))\n",
    "\n",
    "model_stock.add(Dense(400, activation=\"relu\"))\n",
    "model_stock.add(Dropout(0.1))\n",
    "model_stock.add(Flatten())\n",
    "\n",
    "model_stock.add(Dense(1, activation=\"linear\"))\n",
    "\n",
    "model_stock.summary()"
   ]
  },
  {
   "cell_type": "code",
   "execution_count": 10,
   "id": "f4e41332",
   "metadata": {
    "scrolled": true
   },
   "outputs": [
    {
     "name": "stdout",
     "output_type": "stream",
     "text": [
      "Epoch 1/100\n",
      "44/44 [==============================] - 2s 30ms/step - loss: 1.2461 - binary_crossentropy: -5.4994 - val_loss: 1.0046 - val_binary_crossentropy: -6.4751\n",
      "Epoch 2/100\n",
      "44/44 [==============================] - 0s 4ms/step - loss: 0.5202 - binary_crossentropy: -8.5342 - val_loss: 0.9859 - val_binary_crossentropy: -6.1597\n",
      "Epoch 3/100\n",
      "44/44 [==============================] - 0s 4ms/step - loss: 0.3141 - binary_crossentropy: -9.1423 - val_loss: 0.9931 - val_binary_crossentropy: -6.0252\n",
      "Epoch 4/100\n",
      "44/44 [==============================] - 0s 3ms/step - loss: 0.1959 - binary_crossentropy: -9.4528 - val_loss: 1.0159 - val_binary_crossentropy: -5.6769\n",
      "Epoch 5/100\n",
      "44/44 [==============================] - 0s 3ms/step - loss: 0.1150 - binary_crossentropy: -9.6433 - val_loss: 1.0405 - val_binary_crossentropy: -5.9928\n",
      "Epoch 6/100\n",
      "44/44 [==============================] - 0s 4ms/step - loss: 0.0949 - binary_crossentropy: -9.6447 - val_loss: 1.0458 - val_binary_crossentropy: -5.7857\n"
     ]
    }
   ],
   "source": [
    "early_stop = EarlyStopping(monitor = 'val_loss', patience = 4 )\n",
    "model_stock.compile(loss = MeanSquaredError(),\n",
    "    optimizer=Adam(\n",
    "#         learning_rate=0.0005\n",
    "    ),\n",
    "    metrics=BinaryCrossentropy()),\n",
    "history = model_stock.fit(\n",
    "    X_train, y_train,\n",
    "    validation_data= (X_val, y_val),\n",
    "    epochs = 100,\n",
    "    callbacks=[early_stop],\n",
    ")\n"
   ]
  },
  {
   "cell_type": "code",
   "execution_count": 11,
   "id": "3d91787f",
   "metadata": {},
   "outputs": [
    {
     "data": {
      "text/plain": [
       "<Axes: >"
      ]
     },
     "execution_count": 11,
     "metadata": {},
     "output_type": "execute_result"
    },
    {
     "data": {
      "image/png": "[encoded data removed]",
      "text/plain": [
       "<Figure size 1000x600 with 1 Axes>"
      ]
     },
     "metadata": {},
     "output_type": "display_data"
    }
   ],
   "source": [
    "import pandas as pd\n",
    "\n",
    "losses_df = pd.DataFrame(model_stock.history.history)\n",
    "losses_df.plot(figsize = (10,6))"
   ]
  },
  {
   "cell_type": "markdown",
   "id": "7e0b31d7",
   "metadata": {},
   "source": [
    "## Predykcja wyniku i wyświetlenie macierzy pomyłek"
   ]
  },
  {
   "cell_type": "code",
   "execution_count": 12,
   "id": "465606a6",
   "metadata": {
    "scrolled": true
   },
   "outputs": [
    {
     "name": "stdout",
     "output_type": "stream",
     "text": [
      "44/44 [==============================] - 0s 1ms/step\n",
      "Accuracy - training: 0.975609756097561\n",
      "30/30 [==============================] - 0s 885us/step\n",
      "Accuracy - validation: 0.3634408602150538\n"
     ]
    },
    {
     "data": {
      "image/png": "[encoded data removed]",
      "text/plain": [
       "<Figure size 640x480 with 2 Axes>"
      ]
     },
     "metadata": {},
     "output_type": "display_data"
    },
    {
     "data": {
      "image/png": "[encoded data removed]",
      "text/plain": [
       "<Figure size 640x480 with 2 Axes>"
      ]
     },
     "metadata": {},
     "output_type": "display_data"
    }
   ],
   "source": [
    "from matplotlib import pyplot as plt\n",
    "from sklearn.metrics import confusion_matrix, ConfusionMatrixDisplay\n",
    "    \n",
    "# Wynik na danych treningowych\n",
    "y_pred = model_stock.predict(X_train).flatten()\n",
    "y_pred = [ int(np.round(y)) for y in y_pred ]\n",
    "\n",
    "cm = confusion_matrix(y_train, y_pred)\n",
    "ConfusionMatrixDisplay(confusion_matrix=cm).plot()\n",
    "plt.title(\"Train data\")\n",
    "print(f\"Accuracy - training: {sum([ y_train[i] == y_pred[i] for i in range(len(y_train)) ])/len(y_train)}\")\n",
    "\n",
    "# Wynik na danych testowych\n",
    "y_pred = model_stock.predict(X_val).flatten()\n",
    "y_pred = [ int(np.round(y)) for y in y_pred ]\n",
    "\n",
    "cm = confusion_matrix(y_val, y_pred)\n",
    "ConfusionMatrixDisplay(confusion_matrix=cm).plot()\n",
    "plt.title(\"Validation data\")\n",
    "print(f\"Accuracy - validation: {sum([ y_val[i] == y_pred[i] for i in range(len(y_val)) ])/len(y_val)}\")"
   ]
  },
  {
   "cell_type": "markdown",
   "id": "8a53b3b1",
   "metadata": {},
   "source": [
    "## Dokładność na nowych danych:"
   ]
  },
  {
   "cell_type": "code",
   "execution_count": 13,
   "id": "ea149711",
   "metadata": {
    "scrolled": true
   },
   "outputs": [
    {
     "name": "stdout",
     "output_type": "stream",
     "text": [
      "2/2 [==============================] - 0s 2ms/step\n",
      "Accuracy - total: 0.36\n"
     ]
    },
    {
     "data": {
      "image/png": "[encoded data removed]",
      "text/plain": [
       "<Figure size 640x480 with 2 Axes>"
      ]
     },
     "metadata": {},
     "output_type": "display_data"
    }
   ],
   "source": [
    "future_data = prepareData(df_dt_cleaned[-pred_len-sample_length:], sample_length, shuffle=False)\n",
    "X_future = future_data['X']\n",
    "y_future = future_data['y']\n",
    "\n",
    "y_pred = model_stock.predict(X_future).flatten()\n",
    "y_pred = [ int(np.round(y)) for y in y_pred ]\n",
    "\n",
    "cm = confusion_matrix(y_future, y_pred)\n",
    "ConfusionMatrixDisplay(confusion_matrix=cm).plot()\n",
    "plt.title(\"Train data\")\n",
    "print(f\"Accuracy - total: {sum([ y_future[i] == y_pred[i] for i in range(len(y_future)) ])/len(y_future)}\")"
   ]
  },
  {
   "cell_type": "code",
   "execution_count": null,
   "id": "7604a419",
   "metadata": {},
   "outputs": [],
   "source": []
  }
 ],
 "metadata": {
  "kernelspec": {
   "display_name": "Python 3 (ipykernel)",
   "language": "python",
   "name": "python3"
  },
  "language_info": {
   "codemirror_mode": {
    "name": "ipython",
    "version": 3
   },
   "file_extension": ".py",
   "mimetype": "text/x-python",
   "name": "python",
   "nbconvert_exporter": "python",
   "pygments_lexer": "ipython3",
   "version": "3.10.12"
  }
 },
 "nbformat": 4,
 "nbformat_minor": 5
}
